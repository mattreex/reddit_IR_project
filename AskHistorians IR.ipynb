{
 "cells": [
  {
   "cell_type": "code",
   "execution_count": 1,
   "metadata": {},
   "outputs": [],
   "source": [
    "# !pip install --upgrade google-cloud-bigquery"
   ]
  },
  {
   "cell_type": "markdown",
   "metadata": {},
   "source": [
    "## Setup Google Cloud Storage Database and Download Data"
   ]
  },
  {
   "cell_type": "code",
   "execution_count": 27,
   "metadata": {},
   "outputs": [],
   "source": [
    "import pandas as pd"
   ]
  },
  {
   "cell_type": "code",
   "execution_count": 1,
   "metadata": {},
   "outputs": [],
   "source": [
    "from google.cloud import bigquery\n",
    "from google.oauth2 import service_account\n",
    "credentials = service_account.Credentials.from_service_account_file('/home/mattreex/gcp_red_auth.json')\n",
    "\n",
    "project_id = 'redditml-project'\n",
    "client = bigquery.Client(credentials= credentials,project=project_id)"
   ]
  },
  {
   "cell_type": "markdown",
   "metadata": {},
   "source": [
    "## Create dataset"
   ]
  },
  {
   "cell_type": "code",
   "execution_count": 15,
   "metadata": {},
   "outputs": [
    {
     "name": "stdout",
     "output_type": "stream",
     "text": [
      "Created dataset redditml-project.reddit\n"
     ]
    }
   ],
   "source": [
    "dataset = bigquery.Dataset(\"redditml-project.reddit\")\n",
    "\n",
    "# TODO(developer): Specify the geographic location where the dataset should reside.\n",
    "dataset.location = \"US\"\n",
    "\n",
    "# Send the dataset to the API for creation, with an explicit timeout.\n",
    "# Raises google.api_core.exceptions.Conflict if the Dataset already\n",
    "# exists within the project.\n",
    "dataset = client.create_dataset(dataset, timeout=30)  # Make an API request.\n",
    "print(\"Created dataset {}.{}\".format(client.project, dataset.dataset_id))"
   ]
  },
  {
   "cell_type": "code",
   "execution_count": 20,
   "metadata": {},
   "outputs": [
    {
     "name": "stdout",
     "output_type": "stream",
     "text": [
      "Created dataset redditml-project.reddit_posts\n"
     ]
    }
   ],
   "source": [
    "dataset = bigquery.Dataset(\"redditml-project.reddit_posts\")\n",
    "\n",
    "# TODO(developer): Specify the geographic location where the dataset should reside.\n",
    "dataset.location = \"US\"\n",
    "\n",
    "# Send the dataset to the API for creation, with an explicit timeout.\n",
    "# Raises google.api_core.exceptions.Conflict if the Dataset already\n",
    "# exists within the project.\n",
    "dataset = client.create_dataset(dataset, timeout=30)  # Make an API request.\n",
    "print(\"Created dataset {}.{}\".format(client.project, dataset.dataset_id))"
   ]
  },
  {
   "cell_type": "code",
   "execution_count": 8,
   "metadata": {},
   "outputs": [
    {
     "name": "stdout",
     "output_type": "stream",
     "text": [
      "Datasets in project redditml-project:\n",
      "\treddit\n",
      "\treddit_posts\n"
     ]
    }
   ],
   "source": [
    "from google.cloud import bigquery\n",
    "\n",
    "\n",
    "datasets = list(client.list_datasets())  # Make an API request.\n",
    "project = client.project\n",
    "\n",
    "if datasets:\n",
    "    print(\"Datasets in project {}:\".format(project))\n",
    "    for dataset in datasets:\n",
    "        print(\"\\t{}\".format(dataset.dataset_id))\n",
    "else:\n",
    "    print(\"{} project does not contain any datasets.\".format(project))"
   ]
  },
  {
   "cell_type": "code",
   "execution_count": 12,
   "metadata": {},
   "outputs": [],
   "source": [
    "datasets = list(client.list_datasets())"
   ]
  },
  {
   "cell_type": "code",
   "execution_count": 10,
   "metadata": {},
   "outputs": [
    {
     "name": "stdout",
     "output_type": "stream",
     "text": [
      "redditml-project.reddit_posts.2015_12\n",
      "redditml-project.reddit_posts.2016_01\n",
      "redditml-project.reddit_posts.2016_02\n",
      "redditml-project.reddit_posts.2016_03\n",
      "redditml-project.reddit_posts.2016_04\n",
      "redditml-project.reddit_posts.2016_05\n",
      "redditml-project.reddit_posts.2016_06\n",
      "redditml-project.reddit_posts.2016_07\n",
      "redditml-project.reddit_posts.2016_08\n",
      "redditml-project.reddit_posts.2016_09\n",
      "redditml-project.reddit_posts.2016_10\n",
      "redditml-project.reddit_posts.2016_11\n",
      "redditml-project.reddit_posts.2016_12\n",
      "redditml-project.reddit_posts.2017_01\n",
      "redditml-project.reddit_posts.2017_02\n",
      "redditml-project.reddit_posts.2017_03\n",
      "redditml-project.reddit_posts.2017_04\n",
      "redditml-project.reddit_posts.2017_05\n",
      "redditml-project.reddit_posts.2017_06\n",
      "redditml-project.reddit_posts.2017_07\n",
      "redditml-project.reddit_posts.2017_08\n",
      "redditml-project.reddit_posts.2017_09\n",
      "redditml-project.reddit_posts.2017_10\n",
      "redditml-project.reddit_posts.2017_11\n",
      "redditml-project.reddit_posts.2017_12\n",
      "redditml-project.reddit_posts.2018_01\n",
      "redditml-project.reddit_posts.2018_02\n",
      "redditml-project.reddit_posts.2018_03\n",
      "redditml-project.reddit_posts.2018_04\n",
      "redditml-project.reddit_posts.2018_05\n",
      "redditml-project.reddit_posts.2018_06\n",
      "redditml-project.reddit_posts.2018_07\n",
      "redditml-project.reddit_posts.2018_08\n",
      "redditml-project.reddit_posts.2018_09\n",
      "redditml-project.reddit_posts.2018_10\n",
      "redditml-project.reddit_posts.2018_11\n",
      "redditml-project.reddit_posts.2018_12\n",
      "redditml-project.reddit_posts.2019_01\n",
      "redditml-project.reddit_posts.2019_02\n",
      "redditml-project.reddit_posts.2019_03\n",
      "redditml-project.reddit_posts.2019_04\n",
      "redditml-project.reddit_posts.2019_05\n",
      "redditml-project.reddit_posts.2019_06\n",
      "redditml-project.reddit_posts.2019_07\n",
      "redditml-project.reddit_posts.2019_08\n",
      "redditml-project.reddit_posts.full_corpus_201509\n",
      "redditml-project.reddit_posts.full_corpus_201512\n"
     ]
    }
   ],
   "source": [
    "tables = client.list_tables('redditml-project.reddit_posts')  # Make an API request.\n",
    "\n",
    "for table in tables:\n",
    "    print(\"{}.{}.{}\".format(table.project, table.dataset_id, table.table_id))"
   ]
  },
  {
   "cell_type": "code",
   "execution_count": 19,
   "metadata": {},
   "outputs": [
    {
     "name": "stdout",
     "output_type": "stream",
     "text": [
      "redditml-project.reddit.2005\n",
      "redditml-project.reddit.2006\n",
      "redditml-project.reddit.2007\n",
      "redditml-project.reddit.2008\n",
      "redditml-project.reddit.2009\n",
      "redditml-project.reddit.2010\n",
      "redditml-project.reddit.2011\n",
      "redditml-project.reddit.2012\n",
      "redditml-project.reddit.2013\n",
      "redditml-project.reddit.2014\n",
      "redditml-project.reddit.2015_01\n",
      "redditml-project.reddit.2015_02\n",
      "redditml-project.reddit.2015_03\n",
      "redditml-project.reddit.2015_04\n",
      "redditml-project.reddit.2015_05\n",
      "redditml-project.reddit.2015_06\n",
      "redditml-project.reddit.2015_07\n",
      "redditml-project.reddit.2015_08\n",
      "redditml-project.reddit.2015_09\n",
      "redditml-project.reddit.2015_10\n",
      "redditml-project.reddit.2015_11\n",
      "redditml-project.reddit.2015_12\n",
      "redditml-project.reddit.2016_01\n",
      "redditml-project.reddit.2016_02\n",
      "redditml-project.reddit.2016_03\n",
      "redditml-project.reddit.2016_04\n",
      "redditml-project.reddit.2016_05\n",
      "redditml-project.reddit.2016_06\n",
      "redditml-project.reddit.2016_07\n",
      "redditml-project.reddit.2016_08\n",
      "redditml-project.reddit.2016_09\n",
      "redditml-project.reddit.2016_10\n",
      "redditml-project.reddit.2016_11\n",
      "redditml-project.reddit.2016_12\n",
      "redditml-project.reddit.2017_01\n",
      "redditml-project.reddit.2017_02\n",
      "redditml-project.reddit.2017_03\n",
      "redditml-project.reddit.2017_04\n",
      "redditml-project.reddit.2017_05\n",
      "redditml-project.reddit.2017_06\n",
      "redditml-project.reddit.2017_07\n",
      "redditml-project.reddit.2017_08\n",
      "redditml-project.reddit.2017_09\n",
      "redditml-project.reddit.2017_10\n",
      "redditml-project.reddit.2017_11\n",
      "redditml-project.reddit.2017_12\n",
      "redditml-project.reddit.2018_01\n",
      "redditml-project.reddit.2018_02\n",
      "redditml-project.reddit.2018_03\n",
      "redditml-project.reddit.2018_04\n",
      "redditml-project.reddit.2018_05\n",
      "redditml-project.reddit.2018_06\n",
      "redditml-project.reddit.2018_07\n",
      "redditml-project.reddit.2018_08\n",
      "redditml-project.reddit.2018_09\n",
      "redditml-project.reddit.2018_10\n",
      "redditml-project.reddit.2018_11\n",
      "redditml-project.reddit.2018_12\n",
      "redditml-project.reddit.2019_01\n",
      "redditml-project.reddit.2019_02\n",
      "redditml-project.reddit.2019_03\n",
      "redditml-project.reddit.2019_04\n",
      "redditml-project.reddit.2019_05\n",
      "redditml-project.reddit.2019_06\n",
      "redditml-project.reddit.2019_07\n",
      "redditml-project.reddit.2019_08\n",
      "redditml-project.reddit.2019_09\n",
      "redditml-project.reddit.2019_10\n",
      "redditml-project.reddit.2019_11\n",
      "redditml-project.reddit.2019_12\n",
      "redditml-project.reddit.bots_201505\n",
      "redditml-project.reddit.subr_rank_201505\n"
     ]
    }
   ],
   "source": [
    "tables = client.list_tables('redditml-project.reddit')  # Make an API request.\n",
    "\n",
    "for table in tables:\n",
    "    print(\"{}.{}.{}\".format(table.project, table.dataset_id, table.table_id))"
   ]
  },
  {
   "cell_type": "markdown",
   "metadata": {},
   "source": [
    "## Download Posts"
   ]
  },
  {
   "cell_type": "code",
   "execution_count": 31,
   "metadata": {},
   "outputs": [],
   "source": [
    "all_posts = pd.DataFrame()"
   ]
  },
  {
   "cell_type": "code",
   "execution_count": 32,
   "metadata": {},
   "outputs": [
    {
     "name": "stderr",
     "output_type": "stream",
     "text": [
      "/home/mattreex/.virtenvs/reddit_proj/lib/python3.8/site-packages/google/cloud/bigquery/client.py:444: UserWarning: Cannot create BigQuery Storage client, the dependency google-cloud-bigquery-storage is not installed.\n",
      "  warnings.warn(\n"
     ]
    }
   ],
   "source": [
    "for i in range(1,9):\n",
    "    query_job = client.query(f\"\"\"\n",
    "          SELECT * FROM `redditml-project.reddit_posts.2019_0{i}` \n",
    "where subreddit='AskHistorians'\"\"\")\n",
    "    results = query_job.result()\n",
    "    res_df = results.to_dataframe()\n",
    "    all_posts = pd.concat([all_posts, res_df])"
   ]
  },
  {
   "cell_type": "code",
   "execution_count": 34,
   "metadata": {},
   "outputs": [],
   "source": [
    "\n",
    "for i in range(1,10):\n",
    "    query_job = client.query(f\"\"\"\n",
    "          SELECT * FROM `redditml-project.reddit_posts.2018_0{i}` \n",
    "where subreddit='AskHistorians'\"\"\")\n",
    "    results = query_job.result()\n",
    "    res_df = results.to_dataframe()\n",
    "    all_posts = pd.concat([all_posts, res_df]) \n",
    "    \n",
    "    query_job = client.query(f\"\"\"\n",
    "          SELECT * FROM `redditml-project.reddit_posts.2017_0{i}` \n",
    "where subreddit='AskHistorians'\"\"\")\n",
    "    results = query_job.result()\n",
    "    res_df = results.to_dataframe()\n",
    "    all_posts = pd.concat([all_posts, res_df]) \n",
    "    \n",
    "    query_job = client.query(f\"\"\"\n",
    "          SELECT * FROM `redditml-project.reddit_posts.2016_0{i}` \n",
    "where subreddit='AskHistorians'\"\"\")\n",
    "    results = query_job.result()\n",
    "    res_df = results.to_dataframe()\n",
    "    all_posts = pd.concat([all_posts, res_df])    \n",
    "\n",
    "    \n",
    "for i in range(10,13):\n",
    "    query_job = client.query(f\"\"\"\n",
    "          SELECT * FROM `redditml-project.reddit_posts.2018_{i}` \n",
    "where subreddit='AskHistorians'\"\"\")\n",
    "    results = query_job.result()\n",
    "    res_df = results.to_dataframe()\n",
    "    all_posts = pd.concat([all_posts, res_df])   \n",
    "    \n",
    "    query_job = client.query(f\"\"\"\n",
    "          SELECT * FROM `redditml-project.reddit_posts.2017_{i}` \n",
    "where subreddit='AskHistorians'\"\"\")\n",
    "    results = query_job.result()\n",
    "    res_df = results.to_dataframe()\n",
    "    all_posts = pd.concat([all_posts, res_df])    \n",
    "    \n",
    "    query_job = client.query(f\"\"\"\n",
    "          SELECT * FROM `redditml-project.reddit_posts.2016_{i}` \n",
    "where subreddit='AskHistorians'\"\"\")\n",
    "    results = query_job.result()\n",
    "    res_df = results.to_dataframe()\n",
    "    all_posts = pd.concat([all_posts, res_df])  \n",
    "    \n",
    "all_posts.to_csv(f'./AskHist_posts_2016_01-2019_08', sep='\\t')"
   ]
  },
  {
   "cell_type": "code",
   "execution_count": null,
   "metadata": {},
   "outputs": [],
   "source": [
    "all_posts = None"
   ]
  },
  {
   "cell_type": "markdown",
   "metadata": {},
   "source": [
    "## Download comments"
   ]
  },
  {
   "cell_type": "code",
   "execution_count": 35,
   "metadata": {},
   "outputs": [],
   "source": [
    "all_comments = pd.DataFrame()"
   ]
  },
  {
   "cell_type": "code",
   "execution_count": 36,
   "metadata": {},
   "outputs": [],
   "source": [
    "for i in range(1,9):\n",
    "    query_job = client.query(f\"\"\"\n",
    "          SELECT * FROM `redditml-project.reddit.2019_0{i}` \n",
    "where subreddit='AskHistorians'\"\"\")\n",
    "    results = query_job.result()\n",
    "    res_df = results.to_dataframe()\n",
    "    all_comments = pd.concat([all_comments, res_df])\n",
    "    "
   ]
  },
  {
   "cell_type": "code",
   "execution_count": 37,
   "metadata": {},
   "outputs": [],
   "source": [
    "\n",
    "for i in range(1,10):\n",
    "    query_job = client.query(f\"\"\"\n",
    "          SELECT * FROM `redditml-project.reddit.2018_0{i}` \n",
    "where subreddit='AskHistorians'\"\"\")\n",
    "    results = query_job.result()\n",
    "    res_df = results.to_dataframe()\n",
    "    all_comments = pd.concat([all_comments, res_df])\n",
    "    \n",
    "    query_job = client.query(f\"\"\"\n",
    "          SELECT * FROM `redditml-project.reddit.2017_0{i}` \n",
    "where subreddit='AskHistorians'\"\"\")\n",
    "    results = query_job.result()\n",
    "    res_df = results.to_dataframe()\n",
    "    all_comments = pd.concat([all_comments, res_df])\n",
    "    \n",
    "    query_job = client.query(f\"\"\"\n",
    "          SELECT * FROM `redditml-project.reddit.2016_0{i}` \n",
    "where subreddit='AskHistorians'\"\"\")\n",
    "    results = query_job.result()\n",
    "    res_df = results.to_dataframe()\n",
    "    all_comments = pd.concat([all_comments, res_df])\n",
    "    \n",
    "\n",
    "    \n",
    "for i in range(10,13):\n",
    "    query_job = client.query(f\"\"\"\n",
    "          SELECT * FROM `redditml-project.reddit.2018_{i}` \n",
    "where subreddit='AskHistorians'\"\"\")\n",
    "    results = query_job.result()\n",
    "    res_df = results.to_dataframe()\n",
    "    all_comments = pd.concat([all_comments, res_df])\n",
    "    \n",
    "    query_job = client.query(f\"\"\"\n",
    "          SELECT * FROM `redditml-project.reddit.2017_{i}` \n",
    "where subreddit='AskHistorians'\"\"\")\n",
    "    results = query_job.result()\n",
    "    res_df = results.to_dataframe()\n",
    "    all_comments = pd.concat([all_comments, res_df])\n",
    "    \n",
    "    query_job = client.query(f\"\"\"\n",
    "          SELECT * FROM `redditml-project.reddit.2016_{i}` \n",
    "where subreddit='AskHistorians'\"\"\")\n",
    "    results = query_job.result()\n",
    "    res_df = results.to_dataframe()\n",
    "    all_comments = pd.concat([all_comments, res_df])\n",
    "\n",
    "all_comments.to_csv(f'./AskHist_comment_2016_01-2019_08', sep='\\t')"
   ]
  },
  {
   "cell_type": "markdown",
   "metadata": {},
   "source": [
    "## Create Local Dataset"
   ]
  },
  {
   "cell_type": "code",
   "execution_count": 1,
   "metadata": {},
   "outputs": [],
   "source": [
    "import pandas as pd\n",
    "from utils import clean_text, tokenize_text"
   ]
  },
  {
   "cell_type": "code",
   "execution_count": 2,
   "metadata": {},
   "outputs": [
    {
     "name": "stderr",
     "output_type": "stream",
     "text": [
      "/home/mattreex/anaconda3/lib/python3.8/site-packages/IPython/core/interactiveshell.py:3071: DtypeWarning: Columns (0,1,6,8,9,12,14,15,17,18,19,22,25,26,29,31) have mixed types.Specify dtype option on import or set low_memory=False.\n",
      "  has_raised = await self.run_ast_nodes(code_ast.body, cell_name,\n",
      "/home/mattreex/anaconda3/lib/python3.8/site-packages/IPython/core/interactiveshell.py:3071: DtypeWarning: Columns (0,2,3,4,8,15) have mixed types.Specify dtype option on import or set low_memory=False.\n",
      "  has_raised = await self.run_ast_nodes(code_ast.body, cell_name,\n"
     ]
    }
   ],
   "source": [
    "posts = pd.read_csv('./AskHist_posts_2016_01-2019_08', sep='\\t', index_col=0)\n",
    "comments = pd.read_csv('./AskHist_comment_2016_01-2019_08', sep='\\t', index_col=0)"
   ]
  },
  {
   "cell_type": "code",
   "execution_count": 3,
   "metadata": {
    "scrolled": true
   },
   "outputs": [
    {
     "name": "stdout",
     "output_type": "stream",
     "text": [
      "<class 'pandas.core.frame.DataFrame'>\n",
      "Index: 215426 entries, 0 to 4815\n",
      "Data columns (total 33 columns):\n",
      " #   Column                  Non-Null Count   Dtype  \n",
      "---  ------                  --------------   -----  \n",
      " 0   created_utc             215424 non-null  object \n",
      " 1   subreddit               215424 non-null  object \n",
      " 2   author                  215421 non-null  object \n",
      " 3   domain                  215363 non-null  object \n",
      " 4   url                     215421 non-null  object \n",
      " 5   num_comments            215424 non-null  object \n",
      " 6   score                   215424 non-null  float64\n",
      " 7   ups                     67355 non-null   object \n",
      " 8   downs                   67355 non-null   object \n",
      " 9   title                   215424 non-null  object \n",
      " 10  selftext                169039 non-null  object \n",
      " 11  saved                   67349 non-null   object \n",
      " 12  id                      215418 non-null  object \n",
      " 13  from_kind               3 non-null       object \n",
      " 14  gilded                  215421 non-null  object \n",
      " 15  from                    0 non-null       float64\n",
      " 16  stickied                215421 non-null  object \n",
      " 17  retrieved_on            215421 non-null  object \n",
      " 18  over_18                 215418 non-null  object \n",
      " 19  thumbnail               215421 non-null  object \n",
      " 20  subreddit_id            215418 non-null  object \n",
      " 21  hide_score              153672 non-null  object \n",
      " 22  link_flair_css_class    7629 non-null    object \n",
      " 23  author_flair_css_class  7452 non-null    object \n",
      " 24  archived                214902 non-null  object \n",
      " 25  is_self                 215418 non-null  object \n",
      " 26  from_id                 0 non-null       float64\n",
      " 27  permalink               215418 non-null  object \n",
      " 28  name                    67349 non-null   object \n",
      " 29  author_flair_text       7477 non-null    object \n",
      " 30  quarantine              166934 non-null  object \n",
      " 31  link_flair_text         6809 non-null    object \n",
      " 32  distinguished           1076 non-null    object \n",
      "dtypes: float64(3), object(30)\n",
      "memory usage: 55.9+ MB\n"
     ]
    }
   ],
   "source": [
    "posts.info()"
   ]
  },
  {
   "cell_type": "code",
   "execution_count": 4,
   "metadata": {},
   "outputs": [],
   "source": [
    "# extract submission id from comment\n",
    "df = comments['link_id'].str.split('_', expand=True)\n",
    "comments['link_id'] = df[1]"
   ]
  },
  {
   "cell_type": "code",
   "execution_count": 5,
   "metadata": {},
   "outputs": [
    {
     "name": "stdout",
     "output_type": "stream",
     "text": [
      "<class 'pandas.core.frame.DataFrame'>\n",
      "Int64Index: 724271 entries, 0 to 724270\n",
      "Data columns (total 53 columns):\n",
      " #   Column                    Non-Null Count   Dtype  \n",
      "---  ------                    --------------   -----  \n",
      " 0   created_utc_x             724247 non-null  object \n",
      " 1   subreddit_x               724247 non-null  object \n",
      " 2   author_x                  724211 non-null  object \n",
      " 3   domain                    724153 non-null  object \n",
      " 4   url                       724211 non-null  object \n",
      " 5   num_comments              724247 non-null  object \n",
      " 6   score_x                   724247 non-null  float64\n",
      " 7   ups_x                     253933 non-null  object \n",
      " 8   downs_x                   253933 non-null  object \n",
      " 9   title                     724247 non-null  object \n",
      " 10  selftext                  512595 non-null  object \n",
      " 11  saved                     253861 non-null  object \n",
      " 12  id_x                      724175 non-null  object \n",
      " 13  from_kind                 36 non-null      object \n",
      " 14  gilded_x                  724211 non-null  object \n",
      " 15  from                      0 non-null       float64\n",
      " 16  stickied                  724211 non-null  object \n",
      " 17  retrieved_on_x            724211 non-null  object \n",
      " 18  over_18                   724175 non-null  object \n",
      " 19  thumbnail                 724211 non-null  object \n",
      " 20  subreddit_id_x            724175 non-null  object \n",
      " 21  hide_score                525974 non-null  object \n",
      " 22  link_flair_css_class      108768 non-null  object \n",
      " 23  author_flair_css_class_x  73939 non-null   object \n",
      " 24  archived_x                722001 non-null  object \n",
      " 25  is_self                   724175 non-null  object \n",
      " 26  from_id                   0 non-null       float64\n",
      " 27  permalink                 724175 non-null  object \n",
      " 28  name_x                    253861 non-null  object \n",
      " 29  author_flair_text_x       74268 non-null   object \n",
      " 30  quarantine                576827 non-null  object \n",
      " 31  link_flair_text           80805 non-null   object \n",
      " 32  distinguished_x           26445 non-null   object \n",
      " 33  body                      724237 non-null  object \n",
      " 34  score_hidden              59249 non-null   object \n",
      " 35  archived_y                139241 non-null  object \n",
      " 36  name_y                    1 non-null       object \n",
      " 37  author_y                  724174 non-null  object \n",
      " 38  author_flair_text_y       187492 non-null  object \n",
      " 39  downs_y                   1 non-null       float64\n",
      " 40  created_utc_y             724175 non-null  object \n",
      " 41  subreddit_id_y            724175 non-null  object \n",
      " 42  link_id                   724175 non-null  object \n",
      " 43  parent_id                 724175 non-null  object \n",
      " 44  score_y                   724175 non-null  float64\n",
      " 45  retrieved_on_y            724175 non-null  float64\n",
      " 46  controversiality          724175 non-null  float64\n",
      " 47  gilded_y                  724175 non-null  object \n",
      " 48  id_y                      724175 non-null  object \n",
      " 49  subreddit_y               724175 non-null  object \n",
      " 50  ups_y                     174654 non-null  float64\n",
      " 51  distinguished_y           68177 non-null   object \n",
      " 52  author_flair_css_class_y  187236 non-null  object \n",
      "dtypes: float64(8), object(45)\n",
      "memory usage: 298.4+ MB\n"
     ]
    }
   ],
   "source": [
    "data = posts.merge(comments, how='inner', left_on='id', right_on='link_id')\n",
    "data.info()"
   ]
  },
  {
   "cell_type": "code",
   "execution_count": 6,
   "metadata": {},
   "outputs": [],
   "source": [
    "# restrict data\n",
    "data_clean = data[['id_x', 'num_comments', 'url', 'title','selftext', 'permalink', 'body']]"
   ]
  },
  {
   "cell_type": "code",
   "execution_count": 7,
   "metadata": {},
   "outputs": [
    {
     "name": "stderr",
     "output_type": "stream",
     "text": [
      "<ipython-input-7-a65edec669e9>:2: SettingWithCopyWarning: \n",
      "A value is trying to be set on a copy of a slice from a DataFrame.\n",
      "Try using .loc[row_indexer,col_indexer] = value instead\n",
      "\n",
      "See the caveats in the documentation: https://pandas.pydata.org/pandas-docs/stable/user_guide/indexing.html#returning-a-view-versus-a-copy\n",
      "  data_clean['num_comments'] = data_clean['num_comments'].replace('False', float('nan'))\n"
     ]
    }
   ],
   "source": [
    "# skip data that has only 1 comment (moderator comment)\n",
    "data_clean['num_comments'] = data_clean['num_comments'].replace('False', float('nan'))\n",
    "data_clean = data_clean[data_clean['num_comments'].notnull()]\n",
    "data_clean = data_clean[data_clean['num_comments'].astype(int) > 1]"
   ]
  },
  {
   "cell_type": "code",
   "execution_count": 8,
   "metadata": {},
   "outputs": [
    {
     "name": "stdout",
     "output_type": "stream",
     "text": [
      "<class 'pandas.core.frame.DataFrame'>\n",
      "Int64Index: 663779 entries, 0 to 724265\n",
      "Data columns (total 7 columns):\n",
      " #   Column        Non-Null Count   Dtype \n",
      "---  ------        --------------   ----- \n",
      " 0   id_x          663743 non-null  object\n",
      " 1   num_comments  663779 non-null  object\n",
      " 2   url           663779 non-null  object\n",
      " 3   title         663779 non-null  object\n",
      " 4   selftext      462761 non-null  object\n",
      " 5   permalink     663743 non-null  object\n",
      " 6   body          663765 non-null  object\n",
      "dtypes: object(7)\n",
      "memory usage: 40.5+ MB\n"
     ]
    }
   ],
   "source": [
    "data_clean.info()"
   ]
  },
  {
   "cell_type": "code",
   "execution_count": 9,
   "metadata": {
    "scrolled": true
   },
   "outputs": [
    {
     "data": {
      "text/html": [
       "<div>\n",
       "<style scoped>\n",
       "    .dataframe tbody tr th:only-of-type {\n",
       "        vertical-align: middle;\n",
       "    }\n",
       "\n",
       "    .dataframe tbody tr th {\n",
       "        vertical-align: top;\n",
       "    }\n",
       "\n",
       "    .dataframe thead th {\n",
       "        text-align: right;\n",
       "    }\n",
       "</style>\n",
       "<table border=\"1\" class=\"dataframe\">\n",
       "  <thead>\n",
       "    <tr style=\"text-align: right;\">\n",
       "      <th></th>\n",
       "      <th>id_x</th>\n",
       "      <th>num_comments</th>\n",
       "      <th>url</th>\n",
       "      <th>title</th>\n",
       "      <th>selftext</th>\n",
       "      <th>permalink</th>\n",
       "      <th>body</th>\n",
       "    </tr>\n",
       "  </thead>\n",
       "  <tbody>\n",
       "    <tr>\n",
       "      <th>0</th>\n",
       "      <td>af2bwd</td>\n",
       "      <td>3</td>\n",
       "      <td>https://www.reddit.com/r/AskHistorians/comment...</td>\n",
       "      <td>Why was a Jewish state in Palestine establishe...</td>\n",
       "      <td>If my understanding is correct, there were num...</td>\n",
       "      <td>/r/AskHistorians/comments/af2bwd/why_was_a_jew...</td>\n",
       "      <td>You are making quite a leap from the Crusades ...</td>\n",
       "    </tr>\n",
       "    <tr>\n",
       "      <th>1</th>\n",
       "      <td>af2bwd</td>\n",
       "      <td>3</td>\n",
       "      <td>https://www.reddit.com/r/AskHistorians/comment...</td>\n",
       "      <td>Why was a Jewish state in Palestine establishe...</td>\n",
       "      <td>If my understanding is correct, there were num...</td>\n",
       "      <td>/r/AskHistorians/comments/af2bwd/why_was_a_jew...</td>\n",
       "      <td>[removed]</td>\n",
       "    </tr>\n",
       "    <tr>\n",
       "      <th>2</th>\n",
       "      <td>af2bwd</td>\n",
       "      <td>3</td>\n",
       "      <td>https://www.reddit.com/r/AskHistorians/comment...</td>\n",
       "      <td>Why was a Jewish state in Palestine establishe...</td>\n",
       "      <td>If my understanding is correct, there were num...</td>\n",
       "      <td>/r/AskHistorians/comments/af2bwd/why_was_a_jew...</td>\n",
       "      <td>[removed]</td>\n",
       "    </tr>\n",
       "    <tr>\n",
       "      <th>3</th>\n",
       "      <td>af2vbr</td>\n",
       "      <td>2</td>\n",
       "      <td>https://www.reddit.com/r/AskHistorians/comment...</td>\n",
       "      <td>Where can I find a (translated) primary source...</td>\n",
       "      <td>Not much more to say than what is in the title...</td>\n",
       "      <td>/r/AskHistorians/comments/af2vbr/where_can_i_f...</td>\n",
       "      <td>I thought at first you had got the story a bit...</td>\n",
       "    </tr>\n",
       "    <tr>\n",
       "      <th>4</th>\n",
       "      <td>af2vbr</td>\n",
       "      <td>2</td>\n",
       "      <td>https://www.reddit.com/r/AskHistorians/comment...</td>\n",
       "      <td>Where can I find a (translated) primary source...</td>\n",
       "      <td>Not much more to say than what is in the title...</td>\n",
       "      <td>/r/AskHistorians/comments/af2vbr/where_can_i_f...</td>\n",
       "      <td>Thank you very much for tracking this down.  \\...</td>\n",
       "    </tr>\n",
       "  </tbody>\n",
       "</table>\n",
       "</div>"
      ],
      "text/plain": [
       "     id_x num_comments                                                url  \\\n",
       "0  af2bwd            3  https://www.reddit.com/r/AskHistorians/comment...   \n",
       "1  af2bwd            3  https://www.reddit.com/r/AskHistorians/comment...   \n",
       "2  af2bwd            3  https://www.reddit.com/r/AskHistorians/comment...   \n",
       "3  af2vbr            2  https://www.reddit.com/r/AskHistorians/comment...   \n",
       "4  af2vbr            2  https://www.reddit.com/r/AskHistorians/comment...   \n",
       "\n",
       "                                               title  \\\n",
       "0  Why was a Jewish state in Palestine establishe...   \n",
       "1  Why was a Jewish state in Palestine establishe...   \n",
       "2  Why was a Jewish state in Palestine establishe...   \n",
       "3  Where can I find a (translated) primary source...   \n",
       "4  Where can I find a (translated) primary source...   \n",
       "\n",
       "                                            selftext  \\\n",
       "0  If my understanding is correct, there were num...   \n",
       "1  If my understanding is correct, there were num...   \n",
       "2  If my understanding is correct, there were num...   \n",
       "3  Not much more to say than what is in the title...   \n",
       "4  Not much more to say than what is in the title...   \n",
       "\n",
       "                                           permalink  \\\n",
       "0  /r/AskHistorians/comments/af2bwd/why_was_a_jew...   \n",
       "1  /r/AskHistorians/comments/af2bwd/why_was_a_jew...   \n",
       "2  /r/AskHistorians/comments/af2bwd/why_was_a_jew...   \n",
       "3  /r/AskHistorians/comments/af2vbr/where_can_i_f...   \n",
       "4  /r/AskHistorians/comments/af2vbr/where_can_i_f...   \n",
       "\n",
       "                                                body  \n",
       "0  You are making quite a leap from the Crusades ...  \n",
       "1                                          [removed]  \n",
       "2                                          [removed]  \n",
       "3  I thought at first you had got the story a bit...  \n",
       "4  Thank you very much for tracking this down.  \\...  "
      ]
     },
     "execution_count": 9,
     "metadata": {},
     "output_type": "execute_result"
    }
   ],
   "source": [
    "data_clean.head()"
   ]
  },
  {
   "cell_type": "code",
   "execution_count": 16,
   "metadata": {},
   "outputs": [],
   "source": [
    "import math\n",
    "def accumulate_comments(data):    \n",
    "    data_dict = {}\n",
    "    for row in data.index:\n",
    "        if type(data.loc[row]['permalink']) != str:\n",
    "            continue\n",
    "        link =  data.loc[row]['permalink'].replace(\"/\", \"()\")\n",
    "        if not data_dict.get(link):\n",
    "            title = clean_text(data.loc[row]['title'])\n",
    "            tb = clean_text(data.loc[row]['selftext']) \n",
    "            body = clean_text(data.loc[row]['body'])\n",
    "            text = title + \" \" + tb + \" \" + body\n",
    "            tokenized_text = \" \".join(tokenize_text(text)) \n",
    "            data_dict[link] = tokenized_text\n",
    "\n",
    "        else:\n",
    "            body = clean_text(data.loc[row]['body'])\n",
    "            tokenized_text = \" \".join(tokenize_text(body)) \n",
    "            data_dict[link] = data_dict[link] + \" \" + tokenized_text\n",
    "    return data_dict"
   ]
  },
  {
   "cell_type": "code",
   "execution_count": 13,
   "metadata": {},
   "outputs": [],
   "source": [
    "import os\n",
    "def write_to_blocks(data_dict, block_size):\n",
    "    cnt = 0\n",
    "    i = 0\n",
    "    for name, text in data_dict.items():\n",
    "        \n",
    "        if cnt == block_size:\n",
    "            print(f\"finished with block {i}\")\n",
    "            i += 1\n",
    "            cnt = 0\n",
    "        try: \n",
    "            os.mkdir(f\"docs/{i}\")\n",
    "        except FileExistsError:\n",
    "            pass\n",
    "        with open(f\"docs/{i}/{name}\", 'w') as f:\n",
    "            f.write(text)\n",
    "        cnt += 1"
   ]
  },
  {
   "cell_type": "code",
   "execution_count": 14,
   "metadata": {},
   "outputs": [],
   "source": [
    "try: \n",
    "    os.mkdir(\"docs/\")\n",
    "except FileExistsError:\n",
    "    pass"
   ]
  },
  {
   "cell_type": "code",
   "execution_count": 17,
   "metadata": {},
   "outputs": [],
   "source": [
    "datadict = accumulate_comments(data_clean)\n"
   ]
  },
  {
   "cell_type": "code",
   "execution_count": 18,
   "metadata": {},
   "outputs": [
    {
     "name": "stdout",
     "output_type": "stream",
     "text": [
      "finished with block 0\n",
      "finished with block 1\n",
      "finished with block 2\n",
      "finished with block 3\n",
      "finished with block 4\n",
      "finished with block 5\n",
      "finished with block 6\n",
      "finished with block 7\n",
      "finished with block 8\n",
      "finished with block 9\n",
      "finished with block 10\n",
      "finished with block 11\n",
      "finished with block 12\n",
      "finished with block 13\n",
      "finished with block 14\n",
      "finished with block 15\n",
      "finished with block 16\n",
      "finished with block 17\n",
      "finished with block 18\n",
      "finished with block 19\n",
      "finished with block 20\n",
      "finished with block 21\n",
      "finished with block 22\n",
      "finished with block 23\n",
      "finished with block 24\n",
      "finished with block 25\n",
      "finished with block 26\n",
      "finished with block 27\n",
      "finished with block 28\n",
      "finished with block 29\n",
      "finished with block 30\n",
      "finished with block 31\n",
      "finished with block 32\n",
      "finished with block 33\n",
      "finished with block 34\n",
      "finished with block 35\n",
      "finished with block 36\n",
      "finished with block 37\n",
      "finished with block 38\n",
      "finished with block 39\n",
      "finished with block 40\n",
      "finished with block 41\n",
      "finished with block 42\n",
      "finished with block 43\n",
      "finished with block 44\n",
      "finished with block 45\n",
      "finished with block 46\n",
      "finished with block 47\n",
      "finished with block 48\n",
      "finished with block 49\n",
      "finished with block 50\n",
      "finished with block 51\n",
      "finished with block 52\n",
      "finished with block 53\n",
      "finished with block 54\n",
      "finished with block 55\n",
      "finished with block 56\n",
      "finished with block 57\n",
      "finished with block 58\n",
      "finished with block 59\n",
      "finished with block 60\n",
      "finished with block 61\n",
      "finished with block 62\n",
      "finished with block 63\n",
      "finished with block 64\n",
      "finished with block 65\n",
      "finished with block 66\n",
      "finished with block 67\n",
      "finished with block 68\n",
      "finished with block 69\n",
      "finished with block 70\n",
      "finished with block 71\n",
      "finished with block 72\n",
      "finished with block 73\n",
      "finished with block 74\n",
      "finished with block 75\n",
      "finished with block 76\n",
      "finished with block 77\n"
     ]
    }
   ],
   "source": [
    "write_to_blocks(datadict, 1000)"
   ]
  },
  {
   "cell_type": "markdown",
   "metadata": {},
   "source": [
    "## Create Block Sorted-based Index"
   ]
  },
  {
   "cell_type": "code",
   "execution_count": 18,
   "metadata": {},
   "outputs": [],
   "source": [
    "import BSBI\n",
    "import os\n",
    "%matplotlib inline\n",
    "import matplotlib.pyplot as plt"
   ]
  },
  {
   "cell_type": "code",
   "execution_count": 2,
   "metadata": {},
   "outputs": [],
   "source": [
    "try: \n",
    "    os.mkdir('output_dir_compressed')\n",
    "except FileExistsError:\n",
    "    pass"
   ]
  },
  {
   "cell_type": "code",
   "execution_count": 3,
   "metadata": {},
   "outputs": [],
   "source": [
    "BSBI_instance_compressed = BSBI.BSBIIndex(data_dir='docs', output_dir = 'output_dir_compressed', index_name='reddit')\n",
    "# BSBI_instance_compressed.index()\n"
   ]
  },
  {
   "cell_type": "markdown",
   "metadata": {},
   "source": [
    "## Query Index"
   ]
  },
  {
   "cell_type": "code",
   "execution_count": 4,
   "metadata": {
    "scrolled": true
   },
   "outputs": [
    {
     "data": {
      "text/plain": [
       "['reddit.com/r/AskHistorians/comments/69gw2v/im_a_roman_emperor_ruling_in_rome_the_persians/',\n",
       " 'reddit.com/r/AskHistorians/comments/45jigs/where_did_the_ancient_greek_culture_go/',\n",
       " 'reddit.com/r/AskHistorians/comments/818sam/why_did_spains_latin_american_colonies_not_join/',\n",
       " 'reddit.com/r/AskHistorians/comments/anax4d/the_roman_poet_ovid_hated_being_exiled_to_the/',\n",
       " 'reddit.com/r/AskHistorians/comments/cxirkz/im_a_roman_senator_in_rome_in_476_ce_the_last/',\n",
       " 'reddit.com/r/AskHistorians/comments/434y71/how_were_the_romans_able_to_field_thousands_of/',\n",
       " 'reddit.com/r/AskHistorians/comments/ajxspw/why_have_jews_been_at_the_receiving_end_so_many/',\n",
       " 'reddit.com/r/AskHistorians/comments/628cxk/howwhy_was_the_sabbath_changed_from_saturday_to/',\n",
       " 'reddit.com/r/AskHistorians/comments/5o7rql/did_the_romans_have_any_laws_regarding_same_sex/',\n",
       " 'reddit.com/r/AskHistorians/comments/4gz1ui/as_the_emperors_bodyguards_what_did_the_varangian/']"
      ]
     },
     "execution_count": 4,
     "metadata": {},
     "output_type": "execute_result"
    }
   ],
   "source": [
    "q = \"ancient rome\"\n",
    "BSBI_instance_compressed.tfidf_retrieve(q)"
   ]
  },
  {
   "cell_type": "code",
   "execution_count": 6,
   "metadata": {},
   "outputs": [],
   "source": [
    "rome_relevant = [1,1,0,1,1,1,0,0,1,1]"
   ]
  },
  {
   "cell_type": "code",
   "execution_count": 5,
   "metadata": {
    "scrolled": false
   },
   "outputs": [
    {
     "data": {
      "text/plain": [
       "['reddit.com/r/AskHistorians/comments/5r94bn/how_did_people_carry_around_polearms_around_the/',\n",
       " 'reddit.com/r/AskHistorians/comments/ajss92/in_1833_the_british_govt_took_a_loan_from_the/',\n",
       " 'reddit.com/r/AskHistorians/comments/akpwo7/what_happened_to_the_algerian_french_french/',\n",
       " 'reddit.com/r/AskHistorians/comments/aci07x/were_there_any_more_groups_of_german_soldiers_who/',\n",
       " 'reddit.com/r/AskHistorians/comments/5n57kp/its_1935_im_mexican_and_i_walk_into_a_segregated/',\n",
       " 'reddit.com/r/AskHistorians/comments/cr7mj9/did_the_second_sinojapanese_war_where_the_chinese/',\n",
       " 'reddit.com/r/AskHistorians/comments/ak9350/was_any_diplomatic_efforts_to_expand_the_maginot/',\n",
       " 'reddit.com/r/AskHistorians/comments/7oar9z/did_america_give_planes_to_britain_in_1940_by/',\n",
       " 'reddit.com/r/AskHistorians/comments/7psqss/was_there_a_war_between_wealthy_people_and_the/',\n",
       " 'reddit.com/r/AskHistorians/comments/c78mhi/what_would_a_standard_issue_medieval_sword_look/']"
      ]
     },
     "execution_count": 5,
     "metadata": {},
     "output_type": "execute_result"
    }
   ],
   "source": [
    "q = \"American Civil War\"\n",
    "BSBI_instance_compressed.tfidf_retrieve(q)"
   ]
  },
  {
   "cell_type": "code",
   "execution_count": 7,
   "metadata": {},
   "outputs": [],
   "source": [
    "civil_relevant = [0,0,0,0,0,0,0,0,0,0]"
   ]
  },
  {
   "cell_type": "code",
   "execution_count": 12,
   "metadata": {},
   "outputs": [
    {
     "data": {
      "text/plain": [
       "['reddit.com/r/AskHistorians/comments/codips/did_the_scandinavian_people_know_about_vinland/',\n",
       " 'reddit.com/r/AskHistorians/comments/ae9sgq/in_norse_society_if_a_warrior_was_wounded_in/',\n",
       " 'reddit.com/r/AskHistorians/comments/ally5h/why_did_philip_never_take_sparta/',\n",
       " 'reddit.com/r/AskHistorians/comments/canixo/how_true_is_the_belief_that_latinos_have_arabic/',\n",
       " 'reddit.com/r/AskHistorians/comments/ak0dm1/broad_question_what_can_people_tell_me_of_early/',\n",
       " 'reddit.com/r/AskHistorians/comments/af2bwd/why_was_a_jewish_state_in_palestine_established/',\n",
       " 'reddit.com/r/AskHistorians/comments/agtjvh/how_accurate_is_the_interpretation_that_the_us/',\n",
       " 'reddit.com/r/AskHistorians/comments/agn62d/why_did_the_pope_move_to_avignon/',\n",
       " 'reddit.com/r/AskHistorians/comments/crcefq/during_the_viking_age_how_common_was_it_for_danes/',\n",
       " 'reddit.com/r/AskHistorians/comments/cjrikw/tuesday_trivia_femme_fatales_this_thread_has/']"
      ]
     },
     "execution_count": 12,
     "metadata": {},
     "output_type": "execute_result"
    }
   ],
   "source": [
    "q = \"Viking homeland\"\n",
    "BSBI_instance_compressed.tfidf_retrieve(q)"
   ]
  },
  {
   "cell_type": "code",
   "execution_count": 13,
   "metadata": {},
   "outputs": [],
   "source": [
    "viking_relevant = [1,1,0,0,1,0,0,0,1,0]"
   ]
  },
  {
   "cell_type": "markdown",
   "metadata": {},
   "source": [
    "## Evaluation"
   ]
  },
  {
   "cell_type": "code",
   "execution_count": 8,
   "metadata": {},
   "outputs": [],
   "source": [
    "\n",
    "def compute_precision(vals):\n",
    "    precision_vals = []\n",
    "    for i in range(10):\n",
    "        tp = sum(vals[:i+1])\n",
    "        fp = 10-tp\n",
    "        precision = tp/(tp +fp)\n",
    "        precision_vals.append(precision)\n",
    "    return precision_vals  "
   ]
  },
  {
   "cell_type": "code",
   "execution_count": 14,
   "metadata": {},
   "outputs": [],
   "source": [
    "rome = compute_precision(rome_relevant)"
   ]
  },
  {
   "cell_type": "code",
   "execution_count": 15,
   "metadata": {},
   "outputs": [],
   "source": [
    "civil = compute_precision(civil_relevant)"
   ]
  },
  {
   "cell_type": "code",
   "execution_count": 16,
   "metadata": {},
   "outputs": [],
   "source": [
    "viking = compute_precision(viking_relevant)"
   ]
  },
  {
   "cell_type": "code",
   "execution_count": 20,
   "metadata": {},
   "outputs": [
    {
     "data": {
      "image/png": "[encoded data removed]",
      "text/plain": [
       "<Figure size 432x288 with 1 Axes>"
      ]
     },
     "metadata": {
      "needs_background": "light"
     },
     "output_type": "display_data"
    }
   ],
   "source": [
    "plt.plot(range(0,10), rome, label='Ancient Rome')\n",
    "plt.plot(range(0,10), civil, label='American Civil War')\n",
    "plt.plot(range(0,10), viking, label='Viking Homeland')\n",
    "plt.title(\"Query comparison\")\n",
    "plt.legend()\n",
    "plt.show()"
   ]
  },
  {
   "cell_type": "code",
   "execution_count": null,
   "metadata": {},
   "outputs": [],
   "source": []
  }
 ],
 "metadata": {
  "kernelspec": {
   "display_name": "Python 3",
   "language": "python",
   "name": "python3"
  },
  "language_info": {
   "codemirror_mode": {
    "name": "ipython",
    "version": 3
   },
   "file_extension": ".py",
   "mimetype": "text/x-python",
   "name": "python",
   "nbconvert_exporter": "python",
   "pygments_lexer": "ipython3",
   "version": "3.8.3"
  }
 },
 "nbformat": 4,
 "nbformat_minor": 5
}
